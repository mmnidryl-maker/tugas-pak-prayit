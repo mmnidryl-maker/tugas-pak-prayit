{
  "nbformat": 4,
  "nbformat_minor": 0,
  "metadata": {
    "colab": {
      "provenance": [],
      "toc_visible": true,
      "authorship_tag": "ABX9TyP86s+b1ZNRNHFAAjEWWAda",
      "include_colab_link": true
    },
    "kernelspec": {
      "name": "python3",
      "display_name": "Python 3"
    },
    "language_info": {
      "name": "python"
    }
  },
  "cells": [
    {
      "cell_type": "markdown",
      "metadata": {
        "id": "view-in-github",
        "colab_type": "text"
      },
      "source": [
        "<a href=\"https://colab.research.google.com/github/mmnidryl-maker/tugas-pak-prayit/blob/main/praktikum_4.ipynb\" target=\"_parent\"><img src=\"https://colab.research.google.com/assets/colab-badge.svg\" alt=\"Open In Colab\"/></a>"
      ]
    },
    {
      "cell_type": "code",
      "source": [
        "for i in range(1, 5):\n",
        "  print(i)"
      ],
      "metadata": {
        "colab": {
          "base_uri": "https://localhost:8080/"
        },
        "id": "Rr8SHKtotfP7",
        "outputId": "b1910190-8d9a-4de6-8a74-57acec17dabb"
      },
      "execution_count": null,
      "outputs": [
        {
          "output_type": "stream",
          "name": "stdout",
          "text": [
            "1\n",
            "2\n",
            "3\n",
            "4\n",
            "5\n"
          ]
        }
      ]
    },
    {
      "cell_type": "code",
      "source": [
        "n = int(input(\"masukan angka: \"))\n",
        "while n > 0:\n",
        "  print(n)\n",
        "  n -= 1"
      ],
      "metadata": {
        "colab": {
          "base_uri": "https://localhost:8080/"
        },
        "id": "oiPK9NUTtpiv",
        "outputId": "aa5354c1-cecd-4869-e533-d0f354984712"
      },
      "execution_count": 85,
      "outputs": [
        {
          "output_type": "stream",
          "name": "stdout",
          "text": [
            "masukan angka: 5\n",
            "5\n",
            "4\n",
            "3\n",
            "2\n",
            "1\n"
          ]
        }
      ]
    },
    {
      "cell_type": "code",
      "source": [
        "i = int\n",
        "for i in range(1, 6):\n",
        "  for j in range(i):\n",
        "    print(\"*\", end=\"\")\n",
        "  print()"
      ],
      "metadata": {
        "colab": {
          "base_uri": "https://localhost:8080/"
        },
        "id": "AibiT8Adt6z4",
        "outputId": "e5108d36-b13f-4b29-f9bb-ee4d8d138dda"
      },
      "execution_count": null,
      "outputs": [
        {
          "output_type": "stream",
          "name": "stdout",
          "text": [
            "*\n",
            "**\n",
            "***\n",
            "****\n",
            "*****\n"
          ]
        }
      ]
    },
    {
      "cell_type": "code",
      "source": [
        "for i in range(1, 11):\n",
        "  if i == 5:\n",
        "    print(\"Angka 5 ditemukan\")\n",
        "    break"
      ],
      "metadata": {
        "colab": {
          "base_uri": "https://localhost:8080/"
        },
        "id": "zs0h4UFQRqxu",
        "outputId": "74956f94-288c-4172-d9e9-a8205012e0b6"
      },
      "execution_count": 29,
      "outputs": [
        {
          "output_type": "stream",
          "name": "stdout",
          "text": [
            "Angka 5 ditemukan\n"
          ]
        }
      ]
    },
    {
      "cell_type": "code",
      "source": [
        "for i in range(1, 6):\n",
        "  if i % 2 == 1:\n",
        "    continue\n",
        "  print(i)"
      ],
      "metadata": {
        "colab": {
          "base_uri": "https://localhost:8080/"
        },
        "id": "jT_C4yVdjMZM",
        "outputId": "6a307d39-435f-4934-e9fd-5e542a646ab1"
      },
      "execution_count": 53,
      "outputs": [
        {
          "output_type": "stream",
          "name": "stdout",
          "text": [
            "2\n",
            "4\n"
          ]
        }
      ]
    },
    {
      "cell_type": "code",
      "source": [
        "data = {\"Nama\": \"andi\", \"umur\": 20, \"Prodi\": \"TRK\"}\n",
        "for k, v in data.items():\n",
        "  print(k, \":\", v)"
      ],
      "metadata": {
        "colab": {
          "base_uri": "https://localhost:8080/"
        },
        "id": "HZLXiWqosq1G",
        "outputId": "b121c071-44a0-4dd3-8c43-d5f78141915b"
      },
      "execution_count": 81,
      "outputs": [
        {
          "output_type": "stream",
          "name": "stdout",
          "text": [
            "Nama : andi\n",
            "umur : 20\n",
            "Prodi : TRK\n"
          ]
        }
      ]
    },
    {
      "cell_type": "code",
      "source": [
        "daftar = [\"andi\", \"budi\", \"cici\"]\n",
        "for i, nama in enumerate(daftar, start=1):\n",
        "  print(i, nama)"
      ],
      "metadata": {
        "colab": {
          "base_uri": "https://localhost:8080/"
        },
        "id": "HkllO_hpsgIR",
        "outputId": "c3df10dd-2daf-42cc-8dd2-72364d772369"
      },
      "execution_count": 82,
      "outputs": [
        {
          "output_type": "stream",
          "name": "stdout",
          "text": [
            "1 andi\n",
            "2 budi\n",
            "3 cici\n"
          ]
        }
      ]
    },
    {
      "cell_type": "code",
      "source": [
        "total = 0\n",
        "while True:\n",
        "  barang = input(\"masukan nama barang (ketik selesai untuk keluar): \")\n",
        "  if barang.lower() == \"selesai\":\n",
        "    break\n",
        "  harga = float(input(f\"masukan harga {barang} : \"))\n",
        "  jumlah = int(input(f\"masukan jumlah {barang} : \"))\n",
        "  subtotal = harga * jumlah\n",
        "  total += subtotal\n",
        "print(\"\\n===== Struk Belanja =====\")\n",
        "print(f\"total belanja: {total}\")"
      ],
      "metadata": {
        "colab": {
          "base_uri": "https://localhost:8080/"
        },
        "id": "6TNB1J_Fscbs",
        "outputId": "491d37b9-0fa5-4431-d9f2-8234b30ec482"
      },
      "execution_count": 83,
      "outputs": [
        {
          "output_type": "stream",
          "name": "stdout",
          "text": [
            "masukan nama barang (ketik selesai untuk keluar): BUKU\n",
            "masukan harga BUKU : 50000\n",
            "masukan jumlah BUKU : 2\n",
            "masukan nama barang (ketik selesai untuk keluar): PULPEN\n",
            "masukan harga PULPEN : 5000\n",
            "masukan jumlah PULPEN : 3\n",
            "masukan nama barang (ketik selesai untuk keluar): SELESAI\n",
            "\n",
            "===== Struk Belanja =====\n",
            "total belanja: 115000.0\n"
          ]
        }
      ]
    },
    {
      "cell_type": "markdown",
      "source": [
        "penugasan 3\n",
        "menampilkan deret angka"
      ],
      "metadata": {
        "id": "TUe1bcvHHd6P"
      }
    },
    {
      "cell_type": "code",
      "source": [
        "for i in range(3, 33, 3):\n",
        "  print(i)"
      ],
      "metadata": {
        "id": "XjIBH-DOugfL",
        "colab": {
          "base_uri": "https://localhost:8080/"
        },
        "outputId": "c3ca20fc-2e28-4964-b731-cc8d0daabffe"
      },
      "execution_count": 2,
      "outputs": [
        {
          "output_type": "stream",
          "name": "stdout",
          "text": [
            "3\n",
            "6\n",
            "9\n",
            "12\n",
            "15\n",
            "18\n",
            "21\n",
            "24\n",
            "27\n",
            "30\n"
          ]
        }
      ]
    },
    {
      "cell_type": "markdown",
      "source": [
        "penugasan 4 hitung faktorial\n"
      ],
      "metadata": {
        "id": "4zIBE7FzQo5Z"
      }
    },
    {
      "cell_type": "code",
      "source": [
        "n = int(input(\"Masukkan bilangan (0 atau lebih besar): \"))\n",
        "\n",
        "faktorial = 1\n",
        "i = n\n",
        "\n",
        "while i > 0:\n",
        "    faktorial = faktorial * i\n",
        "    i = i - 1\n",
        "\n",
        "print(f\"Faktorial dari {n} adalah {faktorial}\")"
      ],
      "metadata": {
        "colab": {
          "base_uri": "https://localhost:8080/"
        },
        "id": "zwatRbjqH083",
        "outputId": "7207c3f1-2c4e-4dd9-80b7-746f8cc7c309"
      },
      "execution_count": 74,
      "outputs": [
        {
          "output_type": "stream",
          "name": "stdout",
          "text": [
            "Masukkan bilangan (0 atau lebih besar): 5\n",
            "Faktorial dari 5 adalah 120\n"
          ]
        }
      ]
    },
    {
      "cell_type": "markdown",
      "source": [
        "penugasan 5 pola segitiga terbalik"
      ],
      "metadata": {
        "id": "mCJmB44yQvAJ"
      }
    },
    {
      "cell_type": "code",
      "source": [
        "n = 5\n",
        "for i in range(n, 0, -1):\n",
        "  for j in range(i):\n",
        "    print(\"*\", end=\"\")\n",
        "  print()"
      ],
      "metadata": {
        "colab": {
          "base_uri": "https://localhost:8080/"
        },
        "id": "9MApxMJiJHvq",
        "outputId": "e4ffc860-95f3-4251-fa2d-bf7d6fe04f71"
      },
      "execution_count": 27,
      "outputs": [
        {
          "output_type": "stream",
          "name": "stdout",
          "text": [
            "*****\n",
            "****\n",
            "***\n",
            "**\n",
            "*\n"
          ]
        }
      ]
    },
    {
      "cell_type": "markdown",
      "source": [
        "penugasan 6 cari bilangan prima dengan break\n",
        "\n",
        "\n",
        "\n",
        "\n",
        "\n",
        "\n"
      ],
      "metadata": {
        "id": "6JPa5L6AQ4pT"
      }
    },
    {
      "cell_type": "code",
      "source": [
        "angka = int(input(\"Masukkan sebuah bilangan bulat: \"))\n",
        "if angka <= 1:\n",
        "    print(angka, \"bukan bilangan prima\")\n",
        "else:\n",
        "    for i in range(2, angka):\n",
        "        if (angka % i) == 0:\n",
        "            print(angka, \"bukan bilangan prima\")\n",
        "            break\n",
        "    else:\n",
        "        print(angka, \"adalah bilangan prima\")"
      ],
      "metadata": {
        "colab": {
          "base_uri": "https://localhost:8080/"
        },
        "id": "5KrbE_oWPYrb",
        "outputId": "93959284-456f-4d5e-e752-9d5e25ba1aa0"
      },
      "execution_count": 72,
      "outputs": [
        {
          "output_type": "stream",
          "name": "stdout",
          "text": [
            "Masukkan sebuah bilangan bulat: 1\n",
            "1 bukan bilangan prima\n"
          ]
        }
      ]
    },
    {
      "cell_type": "markdown",
      "source": [
        "penugasan 7 tampilkan hanya bilangan genap dengan continue\n"
      ],
      "metadata": {
        "id": "-l_nvskpnTRW"
      }
    },
    {
      "cell_type": "code",
      "source": [
        "for i in range(1, 22):\n",
        "  if i % 2 == 1:\n",
        "    continue\n",
        "  print(i)"
      ],
      "metadata": {
        "colab": {
          "base_uri": "https://localhost:8080/"
        },
        "id": "yowHdApljtvp",
        "outputId": "3c284b8d-aade-4cd7-fd10-c5d21299945c"
      },
      "execution_count": 76,
      "outputs": [
        {
          "output_type": "stream",
          "name": "stdout",
          "text": [
            "2\n",
            "4\n",
            "6\n",
            "8\n",
            "10\n",
            "12\n",
            "14\n",
            "16\n",
            "18\n",
            "20\n"
          ]
        }
      ]
    },
    {
      "cell_type": "markdown",
      "source": [
        "penugasan 8 iterasi dictionary mahasiswa"
      ],
      "metadata": {
        "id": "TLk1n1CXnyfq"
      }
    },
    {
      "cell_type": "code",
      "source": [
        "data = {\"Nama\": \"budi\", \"Umur\": 21, \"Prodi\": \"teknik komputer\"}\n",
        "for k, v in data.items():\n",
        "  print(k, \":\", v)"
      ],
      "metadata": {
        "colab": {
          "base_uri": "https://localhost:8080/"
        },
        "id": "vuQdzzAUnsX6",
        "outputId": "21faf75b-dc76-41f5-a3a4-a29b2afc535e"
      },
      "execution_count": 77,
      "outputs": [
        {
          "output_type": "stream",
          "name": "stdout",
          "text": [
            "Nama : Andi\n",
            "Umur : 20\n",
            "Prodi : TRK\n"
          ]
        }
      ]
    },
    {
      "cell_type": "markdown",
      "source": [
        "penugasan 9 enumerate daftar barang"
      ],
      "metadata": {
        "id": "E3k_nlKfpHU_"
      }
    },
    {
      "cell_type": "code",
      "source": [
        "daftar = [\"buku\", \"pulpen\", \"tas\"]\n",
        "for i, nama in enumerate(daftar, start=1):\n",
        "  print(i, nama)"
      ],
      "metadata": {
        "colab": {
          "base_uri": "https://localhost:8080/"
        },
        "id": "SFkKDxYeo9fS",
        "outputId": "f8f7c8ff-d112-4e27-adb9-fc37899fe1d2"
      },
      "execution_count": 79,
      "outputs": [
        {
          "output_type": "stream",
          "name": "stdout",
          "text": [
            "1 buku\n",
            "2 pulpen\n",
            "3 tas\n"
          ]
        }
      ]
    },
    {
      "cell_type": "markdown",
      "source": [
        "penugasan 10 studi kasus-kasir diskon"
      ],
      "metadata": {
        "id": "x6wgP2gpp4Lm"
      }
    },
    {
      "cell_type": "code",
      "source": [
        "total = 0\n",
        "while True:\n",
        "  barang = input(\"masukan nama barang (ketik selesai untuk keluar): \")\n",
        "  if barang.lower() == \"selesai\":\n",
        "    break\n",
        "  harga = float(input(f\"masukan harga {barang} : \"))\n",
        "  jumlah = int(input(f\"masukan jumlah {barang} : \"))\n",
        "  subtotal = harga * jumlah\n",
        "  total += subtotal\n",
        "print(\"\\n===== Struk Belanja =====\")\n",
        "print(f\"total belanja: {total}\")"
      ],
      "metadata": {
        "colab": {
          "base_uri": "https://localhost:8080/"
        },
        "id": "mEuPUvcJpjaw",
        "outputId": "f0fcbf73-ca53-41a3-bb7e-4fb7ee5efe16"
      },
      "execution_count": 80,
      "outputs": [
        {
          "output_type": "stream",
          "name": "stdout",
          "text": [
            "masukan nama barang (ketik selesai untuk keluar): upi;\n",
            "masukan harga upi; : 90000\n",
            "masukan jumlah upi; : 20\n",
            "masukan nama barang (ketik selesai untuk keluar): eskrim\n",
            "masukan harga eskrim : 3000\n",
            "masukan jumlah eskrim : 70\n",
            "masukan nama barang (ketik selesai untuk keluar): mochi\n",
            "masukan harga mochi : 50000\n",
            "masukan jumlah mochi : 9\n",
            "masukan nama barang (ketik selesai untuk keluar): selesai\n",
            "\n",
            "===== Struk Belanja =====\n",
            "total belanja: 2460000.0\n"
          ]
        }
      ]
    }
  ]
}