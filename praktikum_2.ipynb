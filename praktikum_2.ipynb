{
  "nbformat": 4,
  "nbformat_minor": 0,
  "metadata": {
    "colab": {
      "provenance": [],
      "authorship_tag": "ABX9TyMiab2Ouwicvv3PVnXFkd98",
      "include_colab_link": true
    },
    "kernelspec": {
      "name": "python3",
      "display_name": "Python 3"
    },
    "language_info": {
      "name": "python"
    }
  },
  "cells": [
    {
      "cell_type": "markdown",
      "metadata": {
        "id": "view-in-github",
        "colab_type": "text"
      },
      "source": [
        "<a href=\"https://colab.research.google.com/github/mmnidryl-maker/tugas-pak-prayit/blob/main/praktikum_2.ipynb\" target=\"_parent\"><img src=\"https://colab.research.google.com/assets/colab-badge.svg\" alt=\"Open In Colab\"/></a>"
      ]
    },
    {
      "cell_type": "code",
      "execution_count": null,
      "metadata": {
        "id": "6LN0FeiTaly9",
        "colab": {
          "base_uri": "https://localhost:8080/"
        },
        "outputId": "328b633e-237a-4173-b137-60ddd7d2105f"
      },
      "outputs": [
        {
          "output_type": "stream",
          "name": "stdout",
          "text": [
            "Umur: 18 → <class 'int'>\n",
            "Tinggi: 164 → <class 'int'>\n",
            "Nama: Darryll → <class 'str'>\n",
            "Status Mahasiswa: True → <class 'bool'>\n",
            "Nilai: [80, 85, 90] → <class 'list'>\n",
            "Koordinat: (10, 20) → <class 'tuple'>\n",
            "Data Mahasiswa: {'nama': 'Darryll', 'umur': 18, 'prodi': 'TRK'} → <class 'dict'>\n",
            "Hobi: {'olahraga', 'futsal', 'membaca'} → <class 'set'>\n"
          ]
        }
      ],
      "source": [
        "# Integer\n",
        "umur = 18\n",
        "print(\"Umur:\", umur, \"→\", type(umur))\n",
        "\n",
        "# Float\n",
        "tinggi = 164\n",
        "print(\"Tinggi:\", tinggi, \"→\", type(tinggi))\n",
        "\n",
        "# String\n",
        "nama = \"Darryll\"\n",
        "print(\"Nama:\", nama, \"→\", type(nama))\n",
        "\n",
        "# Boolean\n",
        "is_mahasiswa = True\n",
        "print(\"Status Mahasiswa:\", is_mahasiswa, \"→\", type(is_mahasiswa))\n",
        "\n",
        "# List\n",
        "nilai = [80, 85, 90]\n",
        "print(\"Nilai:\", nilai, \"→\", type(nilai))\n",
        "\n",
        "# Tuple\n",
        "koordinat = (10, 20)\n",
        "print(\"Koordinat:\", koordinat, \"→\", type(koordinat))\n",
        "\n",
        "# Dictionary\n",
        "mahasiswa = {\"nama\": \"Darryll\", \"umur\": 18, \"prodi\": \"TRK\"}\n",
        "print(\"Data Mahasiswa:\", mahasiswa, \"→\", type(mahasiswa))\n",
        "\n",
        "# Set\n",
        "hobi = {\"futsal\", \"olahraga\", \"membaca\"}\n",
        "print(\"Hobi:\", hobi, \"→\", type(hobi))"
      ]
    },
    {
      "cell_type": "markdown",
      "source": [
        "Praktikum 02 – Input dan Output Dasar"
      ],
      "metadata": {
        "id": "po0Z6ko4jUSi"
      }
    },
    {
      "cell_type": "code",
      "source": [
        "# Input string\n",
        "nama = input(\"Masukkan nama Anda: \")\n",
        "\n",
        "# Input integer\n",
        "umur = int(input(\"Masukkan umur Anda: \"))\n",
        "\n",
        "# Input float\n",
        "tinggi = float(input(\"Masukkan tinggi badan (cm): \"))\n",
        "\n",
        "# Output standar\n",
        "print(\"Halo,\", nama, \"umur Anda:\", umur, \"tahun, tinggi:\", tinggi, \"cm\")\n",
        "\n",
        "# Output dengan format()\n",
        "print(\"Halo {0}, umur Anda {1} tahun, tinggi {2} cm\".format(nama, umur,\n",
        "tinggi))\n",
        "\n",
        "# Output dengan f-string\n",
        "print(f\"Halo {nama}, umur Anda {umur} tahun, tinggi {tinggi} cm\")"
      ],
      "metadata": {
        "colab": {
          "base_uri": "https://localhost:8080/"
        },
        "id": "O0khKiryjC7k",
        "outputId": "93fa935e-56db-47b9-b915-0593a34547ef"
      },
      "execution_count": null,
      "outputs": [
        {
          "output_type": "stream",
          "name": "stdout",
          "text": [
            "Masukkan nama Anda: darryll\n",
            "Masukkan umur Anda: 18\n",
            "Masukkan tinggi badan (cm): 164\n",
            "Halo, darryll umur Anda: 18 tahun, tinggi: 164.0 cm\n",
            "Halo darryll, umur Anda 18 tahun, tinggi 164.0 cm\n",
            "Halo darryll, umur Anda 18 tahun, tinggi 164.0 cm\n"
          ]
        }
      ]
    },
    {
      "cell_type": "markdown",
      "source": [
        "Praktikum 03 – Operator Aritmatika"
      ],
      "metadata": {
        "id": "toV00dlgm8ym"
      }
    },
    {
      "cell_type": "code",
      "source": [
        "a=15\n",
        "b=4\n",
        "\n",
        "print(\"a+b =\", a+b)\n",
        "print(\"a-b =\", a-b)\n",
        "print(\"a/b =\", a/b)\n",
        "print(\"a//b =\", a//b)\n",
        "print(\"a%b =\", a%b)\n",
        "print(\"a**b =\", a**b)\n"
      ],
      "metadata": {
        "colab": {
          "base_uri": "https://localhost:8080/"
        },
        "id": "C7hreE2mmbnj",
        "outputId": "06b19780-c545-4cae-ab7a-26f15935a2df"
      },
      "execution_count": null,
      "outputs": [
        {
          "output_type": "stream",
          "name": "stdout",
          "text": [
            "a+b = 19\n",
            "a-b = 11\n",
            "a/b = 3.75\n",
            "a//b = 3\n",
            "a%b = 3\n",
            "a**b = 50625\n"
          ]
        }
      ]
    },
    {
      "cell_type": "markdown",
      "source": [
        "Praktikum 04 – Operator Relasional"
      ],
      "metadata": {
        "id": "mhd_GqtZtLsj"
      }
    },
    {
      "cell_type": "code",
      "source": [
        "x = 10\n",
        "y = 20\n",
        "\n",
        "print(\"x == y :\", x == y)\n",
        "print(\"x != y :\", x != y)\n",
        "print(\"x < y :\", x < y)\n",
        "print(\"x > y :\", x > y)\n",
        "print(\"x <= y :\", x <= y)\n",
        "print(\"x >= y :\", x >= y)"
      ],
      "metadata": {
        "colab": {
          "base_uri": "https://localhost:8080/"
        },
        "id": "-_CG389Rn3ZB",
        "outputId": "cc2cd86a-5ac9-4625-84cc-55a5eaded88d"
      },
      "execution_count": null,
      "outputs": [
        {
          "output_type": "stream",
          "name": "stdout",
          "text": [
            "x == y : False\n",
            "x != y : True\n",
            "x < y : True\n",
            "x > y : False\n",
            "x <= y : True\n",
            "x >= y : False\n"
          ]
        }
      ]
    },
    {
      "cell_type": "markdown",
      "source": [
        "Praktikum 05 – Operator Logika dengan Studi Kasus Nyata"
      ],
      "metadata": {
        "id": "zi666yCuuVCY"
      }
    },
    {
      "cell_type": "code",
      "source": [
        "#operator logika dasar\n",
        "a = True\n",
        "b = False\n",
        "print(\"a and b =\", a and b)\n",
        "print(\"a or b =\", a or b)\n",
        "print(\"not a =\", not a)\n",
        "\n",
        "#studi kasus nyata: kalulusan\n",
        "nilai = int(input(\"masukan nilai anda: \"))\n",
        "hadir = int(input(\"masukan jumlah kehadiran: \"))\n",
        "\n",
        "lulus_nilai = nilai >= 60\n",
        "lulus_hadir = hadir >= 12 # dari 16 pertemuan\n",
        "\n",
        "if lulus_nilai and lulus_hadir:\n",
        "  print(\"status : lulus\")\n",
        "else:\n",
        "  print(\"status : tidak lulus\")"
      ],
      "metadata": {
        "colab": {
          "base_uri": "https://localhost:8080/"
        },
        "id": "pAPMKdSDuQlv",
        "outputId": "1540bf4c-fb91-4031-d11f-f706d705f11e"
      },
      "execution_count": null,
      "outputs": [
        {
          "output_type": "stream",
          "name": "stdout",
          "text": [
            "a and b = False\n",
            "a or b = True\n",
            "not a = False\n",
            "masukan nilai anda: 70\n",
            "masukan jumlah kehadiran: 13\n",
            "status : lulus\n"
          ]
        }
      ]
    },
    {
      "cell_type": "markdown",
      "source": [
        "Praktikum 06 – Program Kasir Sederhana"
      ],
      "metadata": {
        "id": "npJiOZ1ywEWr"
      }
    },
    {
      "cell_type": "code",
      "source": [
        "barang = input (\"masukan nama barang: \")\n",
        "harga = float(input(\"masukan harga barang: \"))\n",
        "jumlah = int(input(\"masukan jumlah barang: \"))\n",
        "\n",
        "total = harga * jumlah\n",
        "\n",
        "#aturan diskon\n",
        "if total >= 500000:\n",
        "  diskon = 0.2\n",
        "elif total >= 250000:\n",
        "  diskon = 0.1\n",
        "else :\n",
        "  diskon = 0\n",
        "\n",
        "potongan = total * diskon\n",
        "bayar = total - potongan\n",
        "\n",
        "print(\"\\n===== struk belanja =====\")\n",
        "print(f\"barang : {barang}\")\n",
        "print(f\"jumlah : {jumlah}\")\n",
        "print(f\"total : {total}\")\n",
        "print(f\"diskon : {diskon * 100}%\")\n",
        "print(f\"bayar : Rp {bayar}\")"
      ],
      "metadata": {
        "colab": {
          "base_uri": "https://localhost:8080/"
        },
        "id": "3VFxy8uav0fi",
        "outputId": "129d5f47-e36d-499e-f72b-925f530348ce"
      },
      "execution_count": null,
      "outputs": [
        {
          "output_type": "stream",
          "name": "stdout",
          "text": [
            "masukan nama barang: sosis\n",
            "masukan harga barang: 30000\n",
            "masukan jumlah barang: 15\n",
            "\n",
            "===== struk belanja =====\n",
            "barang : sosis\n",
            "jumlah : 15\n",
            "total : 450000.0\n",
            "diskon : 10.0%\n",
            "bayar : Rp 405000.0\n"
          ]
        }
      ]
    },
    {
      "cell_type": "markdown",
      "source": [
        "identitas mahasisgma\n",
        "\n"
      ],
      "metadata": {
        "id": "7lKu11rSijYs"
      }
    },
    {
      "cell_type": "code",
      "source": [
        "nama = \"Darryll\"\n",
        "umur = 18\n",
        "tinggi = 164.0\n",
        "status_aktif = True\n",
        "\n",
        "print(f\"nama: {nama}\")\n",
        "print(f\"umur: {umur}\")\n",
        "print(f\"tinggi: {tinggi}\")\n",
        "print(f\"status aktif: {status_aktif}\")"
      ],
      "metadata": {
        "id": "cO-WYWbayVDV",
        "colab": {
          "base_uri": "https://localhost:8080/"
        },
        "outputId": "c72f3fec-2d40-42ab-ab23-97e84e2ac858"
      },
      "execution_count": null,
      "outputs": [
        {
          "output_type": "stream",
          "name": "stdout",
          "text": [
            "nama: Darryll\n",
            "umur: 18\n",
            "tinggi: 164.0\n",
            "status aktif: True\n"
          ]
        }
      ]
    },
    {
      "cell_type": "markdown",
      "source": [
        "operasi aritmatika\n"
      ],
      "metadata": {
        "id": "6CqZapr7lgvB"
      }
    },
    {
      "cell_type": "code",
      "source": [
        "a = int(input(\"masukan nilai pertama =\"))\n",
        "b = int(input(\"masukan nilai kedua =\"))\n",
        "\n",
        "print(\"a+b =\", a+b)\n",
        "print(\"a-b =\", a-b)\n",
        "print(\"a*b =\", a*b)\n",
        "print(\"a/b =\", a/b)\n",
        "print(\"a%b =\", a%b)\n",
        "print(\"a**b =\", a**b)\n"
      ],
      "metadata": {
        "colab": {
          "base_uri": "https://localhost:8080/"
        },
        "id": "SnMiWcDQjCkC",
        "outputId": "e7dde5dd-d551-4eee-c3de-2e9d7f86e9f4"
      },
      "execution_count": null,
      "outputs": [
        {
          "output_type": "stream",
          "name": "stdout",
          "text": [
            "masukan nilai pertama9\n",
            "masukan nilai kedua9\n",
            "a+b = 18\n",
            "a-b = 0\n",
            "a*b = 81\n",
            "a/b = 1.0\n",
            "a%b = 0\n",
            "a**b = 387420489\n"
          ]
        }
      ]
    },
    {
      "cell_type": "markdown",
      "source": [
        "konversi nilai"
      ],
      "metadata": {
        "id": "MNBbftexrxqY"
      }
    },
    {
      "cell_type": "code",
      "source": [
        "a = float(input(\"masukan angka =\"))\n",
        "print(int(a))\n",
        "print(str(a))\n",
        "print(round(a))"
      ],
      "metadata": {
        "id": "MaO9OEaBoFSz",
        "colab": {
          "base_uri": "https://localhost:8080/"
        },
        "outputId": "5b15bdb0-2a81-4b74-e8dd-28e7198be5e8"
      },
      "execution_count": null,
      "outputs": [
        {
          "output_type": "stream",
          "name": "stdout",
          "text": [
            "masukan angka =12.7777777\n",
            "12\n",
            "12.7777777\n",
            "13\n"
          ]
        }
      ]
    },
    {
      "cell_type": "markdown",
      "source": [
        "operator relasional"
      ],
      "metadata": {
        "id": "O3cJ8UdW3iDp"
      }
    },
    {
      "cell_type": "code",
      "source": [
        "a = str(input(\"masukan nilai pertama =\"))\n",
        "b = str(input(\"masukan nilai kedua =\"))\n",
        "\n",
        "print(a == b)\n",
        "print(a != b)\n",
        "print(a > b)\n",
        "print(a < b)\n",
        "print(a <= b)\n",
        "print(a >= b)"
      ],
      "metadata": {
        "id": "wdOs9QZl0qtO",
        "colab": {
          "base_uri": "https://localhost:8080/"
        },
        "outputId": "b5c80ad8-e3df-4ea4-bff5-515ccafd762d"
      },
      "execution_count": null,
      "outputs": [
        {
          "output_type": "stream",
          "name": "stdout",
          "text": [
            "masukan nilai pertama =12\n",
            "masukan nilai kedua =23\n",
            "False\n",
            "True\n",
            "False\n",
            "True\n",
            "True\n",
            "False\n"
          ]
        }
      ]
    }
  ]
}