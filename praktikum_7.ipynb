{
  "nbformat": 4,
  "nbformat_minor": 0,
  "metadata": {
    "colab": {
      "provenance": [],
      "authorship_tag": "ABX9TyMt2UOR17PC1u4/NNA0xZEY",
      "include_colab_link": true
    },
    "kernelspec": {
      "name": "python3",
      "display_name": "Python 3"
    },
    "language_info": {
      "name": "python"
    }
  },
  "cells": [
    {
      "cell_type": "markdown",
      "metadata": {
        "id": "view-in-github",
        "colab_type": "text"
      },
      "source": [
        "<a href=\"https://colab.research.google.com/github/mmnidryl-maker/tugas-pak-prayit/blob/main/praktikum_7.ipynb\" target=\"_parent\"><img src=\"https://colab.research.google.com/assets/colab-badge.svg\" alt=\"Open In Colab\"/></a>"
      ]
    },
    {
      "cell_type": "code",
      "execution_count": 1,
      "metadata": {
        "colab": {
          "base_uri": "https://localhost:8080/"
        },
        "id": "HODT8xU5kLQh",
        "outputId": "683417cf-c84d-488b-cb52-fd5fd91f2367"
      },
      "outputs": [
        {
          "output_type": "stream",
          "name": "stdout",
          "text": [
            "lintang: 7.05\n",
            "bujur: 110.44\n"
          ]
        }
      ],
      "source": [
        "koordinat = (7.05, 110.44)\n",
        "print(\"lintang:\", koordinat[0])\n",
        "print(\"bujur:\", koordinat[1])"
      ]
    },
    {
      "cell_type": "code",
      "source": [
        "mahasiswa = {\n",
        "    \"NIM\": \"20251001\",\n",
        "    \"Nama\": \"Andi\",\n",
        "    \"Prodi\": \"TRK\"\n",
        "}\n",
        "\n",
        "print(\"NIM :\", mahasiswa[\"NIM\"])\n",
        "print(\"Nama :\", mahasiswa[\"Nama\"])\n",
        "print(\"Prodi :\", mahasiswa[\"Prodi\"])"
      ],
      "metadata": {
        "colab": {
          "base_uri": "https://localhost:8080/"
        },
        "id": "pp0ZthGKkkuq",
        "outputId": "bd1974b3-1504-4759-8d69-ec152beb88ef"
      },
      "execution_count": 5,
      "outputs": [
        {
          "output_type": "stream",
          "name": "stdout",
          "text": [
            "NIM : 20251001\n",
            "Nama : Andi\n",
            "Prodi : TRK\n"
          ]
        }
      ]
    },
    {
      "cell_type": "code",
      "source": [
        "mahasiswa = {\n",
        "    \"NIM\": \"20251001\",\n",
        "    \"Nama\": \"Andi\",\n",
        "    \"Prodi\": \"TRK\"\n",
        "}\n",
        "\n",
        "mahasiswa[\"Umur\"] = 20\n",
        "mahasiswa[\"Prodi\"] = \"Teknik Komputer\"\n",
        "del mahasiswa[\"Umur\"]\n",
        "\n",
        "print(mahasiswa)"
      ],
      "metadata": {
        "colab": {
          "base_uri": "https://localhost:8080/"
        },
        "id": "X_EaDbEglOAx",
        "outputId": "58809c13-b813-44f0-8663-3cbbc65445b9"
      },
      "execution_count": 12,
      "outputs": [
        {
          "output_type": "stream",
          "name": "stdout",
          "text": [
            "{'NIM': '20251001', 'Nama': 'Andi', 'Prodi': 'Teknik Komputer'}\n"
          ]
        }
      ]
    },
    {
      "cell_type": "code",
      "source": [
        "a = {1, 2, 3, 4,}\n",
        "b = {3, 4, 5, 6,}\n",
        "\n",
        "print(\"union:\", a | b)\n",
        "print(\"intersection:\", a & b)\n",
        "print(\"difference:\", a - b)"
      ],
      "metadata": {
        "colab": {
          "base_uri": "https://localhost:8080/"
        },
        "id": "qRjpwvQ6mHRx",
        "outputId": "d0d4ac29-f715-428c-b68f-5f3e8b7908de"
      },
      "execution_count": 15,
      "outputs": [
        {
          "output_type": "stream",
          "name": "stdout",
          "text": [
            "union: {1, 2, 3, 4, 5, 6}\n",
            "intersection: {3, 4}\n",
            "difference: {1, 2}\n"
          ]
        }
      ]
    },
    {
      "cell_type": "code",
      "source": [
        "mhs1 = {\"algoritma\", \"matematika\", \"bahasa indonesia\"}\n",
        "mhs2 = {\"algoritma\", \"basis data\", \"matematika\"}\n",
        "\n",
        "print(\"Mata kuliah mhs1:\", mhs1)\n",
        "print(\"Mata kuliah mhs2:\", mhs2)\n",
        "print(\"Mata kuliah yang sama:\", mhs1 & mhs2)"
      ],
      "metadata": {
        "colab": {
          "base_uri": "https://localhost:8080/"
        },
        "id": "20sKwJ6Snj9O",
        "outputId": "9c059366-1ad5-46f8-e743-9bd8833b91c3"
      },
      "execution_count": 16,
      "outputs": [
        {
          "output_type": "stream",
          "name": "stdout",
          "text": [
            "Mata kuliah mhs1: {'matematika', 'bahasa indonesia', 'algoritma'}\n",
            "Mata kuliah mhs2: {'matematika', 'basis data', 'algoritma'}\n",
            "Mata kuliah yang sama: {'matematika', 'algoritma'}\n"
          ]
        }
      ]
    },
    {
      "cell_type": "code",
      "source": [
        "nilai_mahasiswa = {\n",
        "    \"Andi\": 80,\n",
        "    \"Budi\": 75,\n",
        "    \"Cici\": 90\n",
        "}\n",
        "\n",
        "for nama, nilai in nilai_mahasiswa.items():\n",
        "  print(f\"{nama}: {nilai}\")\n",
        "\n",
        "rata = sum(nilai_mahasiswa.values()) / len(nilai_mahasiswa)\n",
        "print(f\"Rata-rata nilai: {rata:.2f}\")"
      ],
      "metadata": {
        "colab": {
          "base_uri": "https://localhost:8080/"
        },
        "id": "hw6e4H3WpL5c",
        "outputId": "725ea156-a89b-482a-9c8d-f7d4d5d84a1c"
      },
      "execution_count": 20,
      "outputs": [
        {
          "output_type": "stream",
          "name": "stdout",
          "text": [
            "Andi: 80\n",
            "Budi: 75\n",
            "Cici: 90\n",
            "Rata-rata nilai: 81.67\n"
          ]
        }
      ]
    },
    {
      "cell_type": "markdown",
      "source": [
        "penugasan 3 tuple sederhana"
      ],
      "metadata": {
        "id": "cpr3gq-KrmZM"
      }
    },
    {
      "cell_type": "code",
      "source": [
        "data = [\"adni\", 20, \"TRK\"]\n",
        "print(f\"nama: {data[0]}\")\n",
        "print(f\"umur: {data[1]}\")\n",
        "print(f\"prodi: {data[2]}\")"
      ],
      "metadata": {
        "colab": {
          "base_uri": "https://localhost:8080/"
        },
        "id": "z1HMgeQfrWV-",
        "outputId": "c7777d2d-ef5f-4c23-d38c-332e333f3d30"
      },
      "execution_count": 22,
      "outputs": [
        {
          "output_type": "stream",
          "name": "stdout",
          "text": [
            "nama: adni\n",
            "umur: 20\n",
            "prodi: TRK\n"
          ]
        }
      ]
    },
    {
      "cell_type": "markdown",
      "source": [
        "penugasan 4 tuple tidak bisa diubah"
      ],
      "metadata": {
        "id": "LL46iNuxtU0u"
      }
    },
    {
      "cell_type": "code",
      "source": [
        "data = (1, 2, 3)\n",
        "data[1] = 10\n",
        "data[2] = 4\n",
        "del data[0]"
      ],
      "metadata": {
        "colab": {
          "base_uri": "https://localhost:8080/"
        },
        "id": "P3vuAnnotS4n",
        "outputId": "a2182203-30f6-4b83-d8c5-f156f0bb7257"
      },
      "execution_count": 36,
      "outputs": [
        {
          "output_type": "stream",
          "name": "stdout",
          "text": [
            "4\n"
          ]
        }
      ]
    },
    {
      "cell_type": "markdown",
      "source": [
        "penugasan 5 dictionary dasar"
      ],
      "metadata": {
        "id": "P2FeC9ZXuVhT"
      }
    },
    {
      "cell_type": "code",
      "source": [
        "buku = {\n",
        "    \"judul\": \"algoritma\",\n",
        "    \"penulis\": \"munir\",\n",
        "    \"tahun\": 2021\n",
        "}\n",
        "print(\"judul : \", buku[\"judul\"])\n",
        "print(\"penulis : \", buku[\"penulis\"])\n",
        "print(\"tahun : \", buku[\"tahun\"])"
      ],
      "metadata": {
        "colab": {
          "base_uri": "https://localhost:8080/"
        },
        "id": "ic9T3PPcuOQY",
        "outputId": "50cfe4e9-1de7-4ed9-9396-f37a6d84c45b"
      },
      "execution_count": 25,
      "outputs": [
        {
          "output_type": "stream",
          "name": "stdout",
          "text": [
            "judul :  algoritma\n",
            "penulis :  munir\n",
            "tahun :  2021\n"
          ]
        }
      ]
    },
    {
      "cell_type": "markdown",
      "source": [
        "penugasan 6 operasi dictionary"
      ],
      "metadata": {
        "id": "EwXByoGpwMIg"
      }
    },
    {
      "cell_type": "code",
      "source": [
        "data_dosen = {\n",
        "    \"NIP\" : \"12345\",\n",
        "    \"Nama\" : \"Budi\",\n",
        "    \"Prodi\" : \"TRK\"\n",
        "}\n",
        "data_dosen[\"Umur\"] = 40\n",
        "data_dosen[\"Prodi\"] = \"Teknik Komputer\"\n",
        "del data_dosen[\"Umur\"]\n",
        "print(data_dosen)"
      ],
      "metadata": {
        "colab": {
          "base_uri": "https://localhost:8080/"
        },
        "id": "rKz1Br9GuzzK",
        "outputId": "d62006a9-f8eb-41e6-c189-70db9beb3974"
      },
      "execution_count": 43,
      "outputs": [
        {
          "output_type": "stream",
          "name": "stdout",
          "text": [
            "{'NIP': '12345', 'Nama': 'Budi', 'Prodi': 'Teknik Komputer'}\n"
          ]
        }
      ]
    },
    {
      "cell_type": "markdown",
      "source": [
        "penugasan 7 set dan himpunan"
      ],
      "metadata": {
        "id": "s-3-HRrX0zHx"
      }
    },
    {
      "cell_type": "code",
      "source": [
        "a = {\"matematika\", \"algoritma\", \"bahasa inggris\"}\n",
        "b = {\"algoritma\", \"basis data\", \"matematika\"}\n",
        "\n",
        "print(\"union :\", a | b)\n",
        "print(\"intersection :\", a & b)\n",
        "print(\"difference 1 (a terhadap b) :\", a - b)\n",
        "print(\"difference 2 (b terhadap a) :\", b - a)"
      ],
      "metadata": {
        "colab": {
          "base_uri": "https://localhost:8080/"
        },
        "id": "QiXDno6vzevU",
        "outputId": "a0940e99-fa1b-4028-c424-ec0d16530856"
      },
      "execution_count": 48,
      "outputs": [
        {
          "output_type": "stream",
          "name": "stdout",
          "text": [
            "union : {'bahasa inggris', 'basis data', 'matematika', 'algoritma'}\n",
            "intersection : {'matematika', 'algoritma'}\n",
            "difference 1 (a terhadap b) : {'bahasa inggris'}\n",
            "difference 2 (b terhadap a) : {'basis data'}\n"
          ]
        }
      ]
    },
    {
      "cell_type": "markdown",
      "source": [
        "penugasan 8 studi kasus dictionary"
      ],
      "metadata": {
        "id": "AO1k_W3F1_-S"
      }
    },
    {
      "cell_type": "code",
      "source": [
        "nilai_mahasiswa = {\n",
        "    \"Andi\" : 85,\n",
        "    \"Budi\" : 90,\n",
        "    \"Cici\" : 78\n",
        "}\n",
        "for nama, nilai in nilai_mahasiswa.items():\n",
        "  print(f\"{nama} : {nilai}\")\n",
        "\n",
        "  rata_rata = sum(nilai_mahasiswa.values()) / len(nilai_mahasiswa)\n",
        "print(f\"nilai rata-rata ketiga mahasiswa = {rata_rata:.2f}\")"
      ],
      "metadata": {
        "colab": {
          "base_uri": "https://localhost:8080/"
        },
        "id": "7OWA_Mca1nE9",
        "outputId": "a2a4bec4-62d6-4663-ee28-f57f96426fe4"
      },
      "execution_count": 56,
      "outputs": [
        {
          "output_type": "stream",
          "name": "stdout",
          "text": [
            "Andi : 85\n",
            "Budi : 90\n",
            "Cici : 78\n",
            "nilai rata-rata ketiga mahasiswa = 84.33\n"
          ]
        }
      ]
    },
    {
      "cell_type": "markdown",
      "source": [
        "peneugasan 9 studi kasus set-klub mahasiswa"
      ],
      "metadata": {
        "id": "lBSIxH7O4IOI"
      }
    },
    {
      "cell_type": "code",
      "source": [
        "a = {\"andi\", \"budi\", \"cici\"}\n",
        "b = {\"cici\", \"deni\", \"eka\"}\n",
        "\n",
        "print(\"daftar seluruh anggota :\", a | b)\n",
        "print(\"daftar anggota yang mengikuti kedua club :\", a & b)\n",
        "print(\"daftar anggota yang mengikuti klub a tapi tidak mengikuti klub b :\", a - b)"
      ],
      "metadata": {
        "colab": {
          "base_uri": "https://localhost:8080/"
        },
        "id": "YnkVmMNo20Yq",
        "outputId": "a8c2a1fe-de2d-4755-c743-dbf01b38f885"
      },
      "execution_count": 57,
      "outputs": [
        {
          "output_type": "stream",
          "name": "stdout",
          "text": [
            "daftar seluruh anggota : {'andi', 'deni', 'eka', 'budi', 'cici'}\n",
            "daftar anggota yang mengikuti kedua club : {'cici'}\n",
            "daftar anggota yang mengikuti klub a tapi tidak mengikuti klub b : {'andi', 'budi'}\n"
          ]
        }
      ]
    },
    {
      "cell_type": "code",
      "source": [],
      "metadata": {
        "id": "xPMX9MzV5Osn"
      },
      "execution_count": null,
      "outputs": []
    }
  ]
}