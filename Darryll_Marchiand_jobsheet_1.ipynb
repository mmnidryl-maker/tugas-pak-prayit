{
  "nbformat": 4,
  "nbformat_minor": 0,
  "metadata": {
    "colab": {
      "provenance": [],
      "toc_visible": true,
      "authorship_tag": "ABX9TyPrq89ooYd3EvaxBeFg8liX",
      "include_colab_link": true
    },
    "kernelspec": {
      "name": "python3",
      "display_name": "Python 3"
    },
    "language_info": {
      "name": "python"
    }
  },
  "cells": [
    {
      "cell_type": "markdown",
      "metadata": {
        "id": "view-in-github",
        "colab_type": "text"
      },
      "source": [
        "<a href=\"https://colab.research.google.com/github/mmnidryl-maker/tugas-pak-prayit/blob/main/Darryll_Marchiand_jobsheet_1.ipynb\" target=\"_parent\"><img src=\"https://colab.research.google.com/assets/colab-badge.svg\" alt=\"Open In Colab\"/></a>"
      ]
    },
    {
      "cell_type": "markdown",
      "source": [
        "tugas 1 menghitung volume balok"
      ],
      "metadata": {
        "id": "JT3NrKjLQDG-"
      }
    },
    {
      "cell_type": "code",
      "execution_count": null,
      "metadata": {
        "colab": {
          "base_uri": "https://localhost:8080/"
        },
        "id": "S86HslAUPi_c",
        "outputId": "db060873-c6bc-4b53-ec33-a28fc739d580"
      },
      "outputs": [
        {
          "output_type": "stream",
          "name": "stdout",
          "text": [
            "masukan panjang: 10\n",
            "masukan lebar: 20\n",
            "masukan tinggi: 50\n",
            "volume balok =  10000\n"
          ]
        }
      ],
      "source": [
        "p = int(input(\"masukan panjang: \"))\n",
        "l = int(input(\"masukan lebar: \"))\n",
        "t = int(input(\"masukan tinggi: \"))\n",
        "volume = int(p*l*t)\n",
        "print(\"volume balok = \", volume)"
      ]
    },
    {
      "cell_type": "markdown",
      "source": [
        "tugas 2 konversi waktu (detik ke jam :menit: detik)"
      ],
      "metadata": {
        "id": "Y7yBMovDUXhU"
      }
    },
    {
      "cell_type": "code",
      "source": [
        "A=int(input(\"masukan angka\"))\n",
        "jam=A/3600\n",
        "sisa_jam=A%3600\n",
        "menit=sisa_jam/60\n",
        "detik=sisa_jam%60\n",
        "jam = int(jam)\n",
        "menit = int(menit)\n",
        "detik = int(detik)\n",
        "print(jam, \"jam\", menit, \"menit\", detik, \"detik\")"
      ],
      "metadata": {
        "colab": {
          "base_uri": "https://localhost:8080/"
        },
        "id": "ekZcp0wIcOiI",
        "outputId": "65a44dec-0c76-4baa-88a2-d3d555aaf689"
      },
      "execution_count": null,
      "outputs": [
        {
          "output_type": "stream",
          "name": "stdout",
          "text": [
            "masukan angka30000\n",
            "8 jam 20 menit 0 detik\n"
          ]
        }
      ]
    },
    {
      "cell_type": "markdown",
      "source": [
        "tugas 3 rata-rata nilai tiga mata kuliah"
      ],
      "metadata": {
        "id": "pZKL7ikbn1Wp"
      }
    },
    {
      "cell_type": "code",
      "source": [
        "nilai1 = int(input(\"masukan nilai 1: \"))\n",
        "nilai2 = int(input(\"masukan nilai 2: \"))\n",
        "nilai3 = int(input(\"masukan nilai 3: \"))\n",
        "rata_rata_nilai = (nilai1 + nilai2 + nilai3) / 3\n",
        "print(\"rata rata nilai mahasiswa= \", rata_rata_nilai)\n",
        "if rata_rata_nilai > 60:\n",
        "  print(\"lulus\")\n",
        "else:\n",
        "  print(\"tidak lulus\")"
      ],
      "metadata": {
        "colab": {
          "base_uri": "https://localhost:8080/"
        },
        "id": "vtK97jshvtdT",
        "outputId": "3546c022-b8e6-4cf4-d606-9b71358b8150"
      },
      "execution_count": null,
      "outputs": [
        {
          "output_type": "stream",
          "name": "stdout",
          "text": [
            "masukan nilai 1: 80\n",
            "masukan nilai 2: 90\n",
            "masukan nilai 3: 50\n",
            "rata rata nilai mahasiswa=  73.33333333333333\n",
            "lulus\n"
          ]
        }
      ]
    },
    {
      "cell_type": "markdown",
      "source": [
        "tugas 4 menghitung dikson belanja"
      ],
      "metadata": {
        "id": "VS7g0AiAv0bk"
      }
    },
    {
      "cell_type": "code",
      "source": [
        "belanja = int(input(\"masukan total belanja: \"))\n",
        "if belanja >= 500000:\n",
        "  print(\"diskon 20%\")\n",
        "elif belanja >= 250000:\n",
        "  print (\"diskon 10%\")\n",
        "else:\n",
        "  print (\"tidak ada diskon\")"
      ],
      "metadata": {
        "colab": {
          "base_uri": "https://localhost:8080/"
        },
        "id": "_Cqk5f3JzzPW",
        "outputId": "9de69f0e-68e6-4a5d-8be0-1253449d9170"
      },
      "execution_count": null,
      "outputs": [
        {
          "output_type": "stream",
          "name": "stdout",
          "text": [
            "masukan total belanja: 8000000\n",
            "diskon 20%\n"
          ]
        }
      ]
    },
    {
      "cell_type": "markdown",
      "source": [
        "Praktikum 01. Menghitung Luas Persegi Panjang"
      ],
      "metadata": {
        "id": "9oakmmZ6qLzq"
      }
    },
    {
      "cell_type": "code",
      "source": [
        "p = int(input(\"masukan panjang: \"))\n",
        "l = int(input(\"masukan lebar: \"))\n",
        "luas = int(p*l)\n",
        "print(\"luas persegi panjang= \", luas)\n"
      ],
      "metadata": {
        "id": "kAUWtpXT0Ijp",
        "colab": {
          "base_uri": "https://localhost:8080/"
        },
        "outputId": "8eaf1a48-86db-4a5f-9730-06b25856e871"
      },
      "execution_count": null,
      "outputs": [
        {
          "output_type": "stream",
          "name": "stdout",
          "text": [
            "masukan panjang: 80\n",
            "masukan lebar: 30\n",
            "luas persegi panjang=  2400\n"
          ]
        }
      ]
    },
    {
      "cell_type": "markdown",
      "source": [
        "Praktikum 02. Menghitung Luas Segitiga (Rumus Heron)"
      ],
      "metadata": {
        "id": "qR-39xjkrNAi"
      }
    },
    {
      "cell_type": "code",
      "source": [
        "a = float(input(\"masukan sisi a:\"))\n",
        "b = float(input(\"masukan sisi b:\"))\n",
        "c = float(input(\"masukan sisi c:\"))\n",
        "s = (a+b+c)/2\n",
        "luas = (s*(s-a)*(s-b)*(s-c))\n",
        "print(\"luas segitiga= \", luas)\n"
      ],
      "metadata": {
        "colab": {
          "base_uri": "https://localhost:8080/"
        },
        "id": "d6gN3PQgrB1v",
        "outputId": "de86ad1a-5eb9-4ed8-a6a7-7e354f466824"
      },
      "execution_count": null,
      "outputs": [
        {
          "output_type": "stream",
          "name": "stdout",
          "text": [
            "masukan sisi a:50\n",
            "masukan sisi b:90\n",
            "masukan sisi c:80\n",
            "luas segitiga=  3960000.0\n"
          ]
        }
      ]
    },
    {
      "cell_type": "markdown",
      "source": [
        "Praktikum 03. Konversi Suhu Celcius ke Fahrenheit"
      ],
      "metadata": {
        "id": "f6aN7sdOsWeV"
      }
    },
    {
      "cell_type": "code",
      "source": [
        "a = float(input(\"masukan suhu celcius:\"))\n",
        "fahrenheit = (a*9/5)+32\n",
        "print(\"fahrenheit= \", fahrenheit)"
      ],
      "metadata": {
        "colab": {
          "base_uri": "https://localhost:8080/"
        },
        "id": "EixbKnqusQ0k",
        "outputId": "1c8a481b-79b2-46b2-9137-7da8688d8724"
      },
      "execution_count": null,
      "outputs": [
        {
          "output_type": "stream",
          "name": "stdout",
          "text": [
            "masukan suhu celcius:20\n",
            "fahrenheit=  68.0\n"
          ]
        }
      ]
    },
    {
      "cell_type": "markdown",
      "source": [
        "Praktikum 04. Menghitung Umur Berdasarkan Tahun Lahir"
      ],
      "metadata": {
        "id": "kXwPG2JItJ6P"
      }
    },
    {
      "cell_type": "code",
      "source": [
        "a = int(input(\"masukan tahun lahir: \"))\n",
        "umur = (2025-a)\n",
        "print(\"umur saat ini= \", umur)"
      ],
      "metadata": {
        "colab": {
          "base_uri": "https://localhost:8080/"
        },
        "id": "vEiuOwPDtFsc",
        "outputId": "0bab6032-b520-452f-8cc6-f15942988759"
      },
      "execution_count": null,
      "outputs": [
        {
          "output_type": "stream",
          "name": "stdout",
          "text": [
            "masukan tahun lahir: 1901\n",
            "umur saat ini=  124\n"
          ]
        }
      ]
    },
    {
      "cell_type": "markdown",
      "source": [
        "Praktikum 05. Menghitung Luas Lingkaran"
      ],
      "metadata": {
        "id": "ui4HMTBBuUdk"
      }
    },
    {
      "cell_type": "code",
      "source": [
        "a = int(input(\"masukan jari-jari: \"))\n",
        "luas_lingkaran = ((a*a)*3.14)\n",
        "print (\"luas lingkaran= \", luas_lingkaran)"
      ],
      "metadata": {
        "colab": {
          "base_uri": "https://localhost:8080/"
        },
        "id": "Q1yTtDqWt46_",
        "outputId": "db0707a2-ccd9-4778-8230-13ce4662c059"
      },
      "execution_count": null,
      "outputs": [
        {
          "output_type": "stream",
          "name": "stdout",
          "text": [
            "masukan jari-jari: 7\n",
            "luas lingkaran=  153.86\n"
          ]
        }
      ]
    },
    {
      "cell_type": "markdown",
      "source": [
        "Praktikum 06. Menjumlahkan tiga bilangan"
      ],
      "metadata": {
        "id": "nyCIim-8woBg"
      }
    },
    {
      "cell_type": "code",
      "source": [
        "a = int(input(\"masukan bilangan 1: \"))\n",
        "b = int(input(\"masukan bilangan 2: \"))\n",
        "c = int(input(\"masukan bilangan 3: \"))\n",
        "hasil = (a+b+c)\n",
        "print(\"hasil tiga bilangan=\",hasil)"
      ],
      "metadata": {
        "colab": {
          "base_uri": "https://localhost:8080/"
        },
        "id": "MnZ8ugb_vlW-",
        "outputId": "fc02b0d5-13a6-4457-8499-616c775ed557"
      },
      "execution_count": null,
      "outputs": [
        {
          "output_type": "stream",
          "name": "stdout",
          "text": [
            "masukan bilangan 1: 90\n",
            "masukan bilangan 2: 80\n",
            "masukan bilangan 3: 70\n",
            "hasil tiga bilangan= 240\n"
          ]
        }
      ]
    }
  ]
}