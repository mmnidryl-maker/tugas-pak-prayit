{
  "nbformat": 4,
  "nbformat_minor": 0,
  "metadata": {
    "colab": {
      "provenance": [],
      "authorship_tag": "ABX9TyMs8cYWviYmU/jt+40VlLIc",
      "include_colab_link": true
    },
    "kernelspec": {
      "name": "python3",
      "display_name": "Python 3"
    },
    "language_info": {
      "name": "python"
    }
  },
  "cells": [
    {
      "cell_type": "markdown",
      "metadata": {
        "id": "view-in-github",
        "colab_type": "text"
      },
      "source": [
        "<a href=\"https://colab.research.google.com/github/mmnidryl-maker/tugas-pak-prayit/blob/main/praktikum_5.ipynb\" target=\"_parent\"><img src=\"https://colab.research.google.com/assets/colab-badge.svg\" alt=\"Open In Colab\"/></a>"
      ]
    },
    {
      "cell_type": "code",
      "execution_count": null,
      "metadata": {
        "colab": {
          "base_uri": "https://localhost:8080/"
        },
        "id": "Xv3w0cUiP_Zd",
        "outputId": "b9b9d804-4d09-4bf2-d204-9cb0ea7a5499"
      },
      "outputs": [
        {
          "output_type": "stream",
          "name": "stdout",
          "text": [
            "p\n",
            "politeknik \n",
            "semarang\n"
          ]
        }
      ],
      "source": [
        "text = \"politeknik negeri semarang\"\n",
        "print(text[0])\n",
        "print(text[0:11])\n",
        "print(text[-8:])"
      ]
    },
    {
      "cell_type": "code",
      "source": [
        "teks = \" politeknik negeri semarang \"\n",
        "print(teks.upper())\n",
        "print(teks.lower())\n",
        "print(teks.title())\n",
        "print(teks.strip())\n",
        "print(teks.split(\" \"))\n",
        "print(\"_\".join([\"politeknik\",\"negeri\",\"semarang\"]))"
      ],
      "metadata": {
        "colab": {
          "base_uri": "https://localhost:8080/"
        },
        "id": "wYXZWC1PQjlR",
        "outputId": "d00c01f8-d3b2-41d2-9a1f-1cc792ee00f0"
      },
      "execution_count": null,
      "outputs": [
        {
          "output_type": "stream",
          "name": "stdout",
          "text": [
            " POLITEKNIK NEGERI SEMARANG \n",
            " politeknik negeri semarang \n",
            " Politeknik Negeri Semarang \n",
            "politeknik negeri semarang\n",
            "['', 'politeknik', 'negeri', 'semarang', '']\n",
            "politeknik_negeri_semarang\n"
          ]
        }
      ]
    },
    {
      "cell_type": "code",
      "source": [
        "password = input(\"masukan password: \")\n",
        "\n",
        "if len(password) >= 8:\n",
        "  print(\"password sudah aman\")\n",
        "else:\n",
        "  print(\"pasword terlalu pendek\")"
      ],
      "metadata": {
        "colab": {
          "base_uri": "https://localhost:8080/"
        },
        "id": "8kHxSf9WSqSo",
        "outputId": "5a3e031a-f2dc-4633-9696-55099abf6b10"
      },
      "execution_count": null,
      "outputs": [
        {
          "output_type": "stream",
          "name": "stdout",
          "text": [
            "masukan password: abc\n",
            "pasword terlalu pendek\n"
          ]
        }
      ]
    },
    {
      "cell_type": "code",
      "source": [
        "nama = input(\"masukan nama: \")\n",
        "umur = int(input(\"masukan umur: \"))\n",
        "\n",
        "print(f\"nama saya {nama}, umur {umur} tahun.\")"
      ],
      "metadata": {
        "colab": {
          "base_uri": "https://localhost:8080/"
        },
        "id": "AbTh_M-TShKA",
        "outputId": "b48a9885-e864-4d92-b197-5da54e866bf0"
      },
      "execution_count": null,
      "outputs": [
        {
          "output_type": "stream",
          "name": "stdout",
          "text": [
            "masukan nama: budi\n",
            "masukan umur: 21\n",
            "nama saya budi, umur 21 tahun.\n"
          ]
        }
      ]
    },
    {
      "cell_type": "code",
      "source": [
        "a = int(input(\"masukan nilai a: \"))\n",
        "b = int(input(\"masukan nilai b: \"))\n",
        "\n",
        "print(f\"a + b = {a + b} = {a+b}\")\n",
        "print(f\"hasil pembagian {a}/{b} = {a/b:.2f}\")"
      ],
      "metadata": {
        "colab": {
          "base_uri": "https://localhost:8080/"
        },
        "id": "RUKXmEJ6URLM",
        "outputId": "d3dc8ae4-a5c6-424e-e45c-f575f936e82a"
      },
      "execution_count": null,
      "outputs": [
        {
          "output_type": "stream",
          "name": "stdout",
          "text": [
            "masukan nilai a: 10\n",
            "masukan nilai b: 3\n",
            "a + b = 13 = 13\n",
            "hasil pembagian 10/3 = 3.33\n"
          ]
        }
      ]
    },
    {
      "cell_type": "code",
      "source": [
        "angka = 123\n",
        "teks = \"456\"\n",
        "\n",
        "print(\"nilai : \" + str(angka))\n",
        "print(int(teks) + 10)"
      ],
      "metadata": {
        "colab": {
          "base_uri": "https://localhost:8080/"
        },
        "id": "JkE5m4AsVMkS",
        "outputId": "44d20e9c-9a96-4c49-918a-07e0d5bcfb34"
      },
      "execution_count": null,
      "outputs": [
        {
          "output_type": "stream",
          "name": "stdout",
          "text": [
            "nilai : 123\n",
            "466\n"
          ]
        }
      ]
    },
    {
      "cell_type": "code",
      "source": [
        "kalimat = \"saya kuliah di politeknik negeri semarang\"\n",
        "daftar_kata = kalimat.split(\" \")\n",
        "\n",
        "print(f\"jumlah kata : {len(daftar_kata)}\")\n",
        "for i, kata in enumerate(daftar_kata,start=1):\n",
        "  print(i,kata)"
      ],
      "metadata": {
        "colab": {
          "base_uri": "https://localhost:8080/"
        },
        "id": "6ib_6jWeWB7Q",
        "outputId": "6fa6bc18-4214-4690-ea75-e5c55fd0b98d"
      },
      "execution_count": null,
      "outputs": [
        {
          "output_type": "stream",
          "name": "stdout",
          "text": [
            "jumlah kata : 6\n",
            "1 saya\n",
            "2 kuliah\n",
            "3 di\n",
            "4 politeknik\n",
            "5 negeri\n",
            "6 semarang\n"
          ]
        }
      ]
    },
    {
      "cell_type": "markdown",
      "source": [
        "penugasan 3 indexing dan slicing"
      ],
      "metadata": {
        "id": "JtBXtqoH0eqx"
      }
    },
    {
      "cell_type": "code",
      "source": [
        "text = \"politeknik negeri semarang\"\n",
        "\n",
        "print(text[0])\n",
        "print(text[25])\n",
        "print(text[11:17])"
      ],
      "metadata": {
        "id": "xLO73OeZW_oX",
        "colab": {
          "base_uri": "https://localhost:8080/"
        },
        "outputId": "fe0818da-710c-43ab-dbbc-d9d96adc334d"
      },
      "execution_count": null,
      "outputs": [
        {
          "output_type": "stream",
          "name": "stdout",
          "text": [
            "p\n",
            "g\n",
            "negeri\n"
          ]
        }
      ]
    },
    {
      "cell_type": "markdown",
      "source": [
        "penugasan 4 manipulasi string"
      ],
      "metadata": {
        "id": "1EEq-z7n0jZk"
      }
    },
    {
      "cell_type": "code",
      "source": [
        "a = str(input(\"masukan kalimat : \"))\n",
        "\n",
        "print(a.upper())\n",
        "print(a.lower())\n",
        "daftar_kata = a.split(\" \")\n",
        "print(f\"panjang kalimat : {len(daftar_kata)} kata\")\n",
        "print(f\"panjang kata : {len(a)}\")"
      ],
      "metadata": {
        "colab": {
          "base_uri": "https://localhost:8080/"
        },
        "id": "ltxchaGUzKo_",
        "outputId": "b3a95cde-f325-4b45-af08-f014493ff904"
      },
      "execution_count": null,
      "outputs": [
        {
          "output_type": "stream",
          "name": "stdout",
          "text": [
            "masukan kalimat : upil gedi banget\n",
            "UPIL GEDI BANGET\n",
            "upil gedi banget\n",
            "panjang kalimat : 3 kata\n",
            "panjang kata : 16\n"
          ]
        }
      ]
    },
    {
      "cell_type": "markdown",
      "source": [
        "penugasan 5 validasi username\n"
      ],
      "metadata": {
        "id": "aAE7TjZQ3sU7"
      }
    },
    {
      "cell_type": "code",
      "source": [
        "a = str(input(\"masukan username : (tidak boleh mengandung spsai) \"))\n",
        "if \" \" in a:\n",
        "  print(\"eror\")\n",
        "else:\n",
        "  print(\"username valid\")"
      ],
      "metadata": {
        "colab": {
          "base_uri": "https://localhost:8080/"
        },
        "id": "Ief9FSIC1Vhh",
        "outputId": "840d2747-c0c2-47ff-87a2-0f445eda62de"
      },
      "execution_count": null,
      "outputs": [
        {
          "output_type": "stream",
          "name": "stdout",
          "text": [
            "masukan username : (tidak boleh mengandung spsai) o \n",
            "eror\n"
          ]
        }
      ]
    },
    {
      "cell_type": "markdown",
      "source": [
        "penugasan 6 string formating dengan f-string"
      ],
      "metadata": {
        "id": "KGp6thS_BBoA"
      }
    },
    {
      "cell_type": "code",
      "source": [
        "a = str(input(\"masukan nama anda : \"))\n",
        "b = int(input(\"masukan umur anda : \"))\n",
        "c = str(input(\"masukan jurusan anda : \"))\n",
        "print(f\"\"\"\n",
        "nama: {a}\n",
        "umur: {b}\n",
        "jurusan: {c}\n",
        "\"\"\")"
      ],
      "metadata": {
        "colab": {
          "base_uri": "https://localhost:8080/"
        },
        "id": "cjmzHmpoAQPr",
        "outputId": "5a27fdf7-b291-4320-daa2-782ad3fd4e52"
      },
      "execution_count": null,
      "outputs": [
        {
          "output_type": "stream",
          "name": "stdout",
          "text": [
            "masukan nama anda : andi\n",
            "masukan umur anda : 20\n",
            "masukan jurusan anda : Teknologi Rekayasa Komputer\n",
            "\n",
            "nama: andi \n",
            "umur: 20\n",
            "jurusan: Teknologi Rekayasa Komputer\n",
            "\n"
          ]
        }
      ]
    },
    {
      "cell_type": "markdown",
      "source": [
        "penugasan 7 operasi dalam f-string"
      ],
      "metadata": {
        "id": "3LZ2KtSLEx3p"
      }
    },
    {
      "cell_type": "code",
      "source": [
        "a = int(input(\"masukan angka pertama : \"))\n",
        "b = int(input(\"masukan angka kedua : \"))\n",
        "\n",
        "print(f\"\"\"\n",
        "penjumlahan = {a + b}\n",
        "perkalian = {a * b}\n",
        "hasil pembagian dengan 3 angka dibelakang koma = {a/b:.3f}\n",
        "\"\"\")"
      ],
      "metadata": {
        "colab": {
          "base_uri": "https://localhost:8080/"
        },
        "id": "GFuW9HEwCB9F",
        "outputId": "b6a6c702-388a-4cb0-c2eb-ec415ee8c904"
      },
      "execution_count": null,
      "outputs": [
        {
          "output_type": "stream",
          "name": "stdout",
          "text": [
            "masukan angka pertama : 9\n",
            "masukan angka kedua : 9\n",
            "\n",
            "penjumlahan = 18\n",
            "perkalian = 81\n",
            "hasil pembagian dengan 3 angka dibelakang koma = 1.000\n",
            "\n"
          ]
        }
      ]
    },
    {
      "cell_type": "markdown",
      "source": [
        "penugasan 8 casting data"
      ],
      "metadata": {
        "id": "_etO1LyVG7uV"
      }
    },
    {
      "cell_type": "code",
      "source": [
        "a = str(input(\"masukan angka : \"))\n",
        "d = a.replace(\",\", \".\")\n",
        "b = int(float(d))\n",
        "print(f\"{b**2}\")\n",
        "c = float(d)\n",
        "print(f\"{c:.2f}\")"
      ],
      "metadata": {
        "colab": {
          "base_uri": "https://localhost:8080/"
        },
        "id": "x8km0dnPQvCM",
        "outputId": "b9ecb27a-ad7e-41bd-88a9-186394f13521"
      },
      "execution_count": null,
      "outputs": [
        {
          "output_type": "stream",
          "name": "stdout",
          "text": [
            "masukan angka : 9,9\n",
            "81\n",
            "9.90\n"
          ]
        }
      ]
    },
    {
      "cell_type": "markdown",
      "source": [
        "penugasan 9 studi kasus-analisi teks"
      ],
      "metadata": {
        "id": "cZT9bA1hUY46"
      }
    },
    {
      "cell_type": "code",
      "source": [
        "a = str(input(\"masukan kalimat :\"))\n",
        "b = a.split()\n",
        "\n",
        "print(f\"jumlah kata : {len(b)}\")\n",
        "print(f\"kata terpanjang : {max(b, key=len)}\")\n",
        "print(f\"urutan kata sesuai abjad : {sorted(b)}\")\n"
      ],
      "metadata": {
        "colab": {
          "base_uri": "https://localhost:8080/"
        },
        "id": "FcpfF5ctQh6h",
        "outputId": "0d2278fa-d787-4ebf-d29a-f560fde8d161"
      },
      "execution_count": null,
      "outputs": [
        {
          "output_type": "stream",
          "name": "stdout",
          "text": [
            "masukan kalimat :upilnya gedi banget sekali\n",
            "jumlah kata : 4\n",
            "kata terpanjang : upilnya\n",
            "urutan kata sesuai abjad : ['banget', 'gedi', 'sekali', 'upilnya']\n"
          ]
        }
      ]
    }
  ]
}