{
  "cells": [
    {
      "cell_type": "markdown",
      "metadata": {
        "id": "view-in-github",
        "colab_type": "text"
      },
      "source": [
        "<a href=\"https://colab.research.google.com/github/mmnidryl-maker/tugas-pak-prayit/blob/main/praktikum_3_darryll.ipynb\" target=\"_parent\"><img src=\"https://colab.research.google.com/assets/colab-badge.svg\" alt=\"Open In Colab\"/></a>"
      ]
    },
    {
      "cell_type": "markdown",
      "metadata": {
        "id": "-3bcDM-Q9vdd"
      },
      "source": [
        "praktikum 1\n",
        "if sederhana"
      ]
    },
    {
      "cell_type": "code",
      "execution_count": null,
      "metadata": {
        "colab": {
          "base_uri": "https://localhost:8080/"
        },
        "id": "aB5pZA3i9zvG",
        "outputId": "c5ec3918-9a69-4cd7-ee08-6b0d4ab9840b"
      },
      "outputs": [
        {
          "name": "stdout",
          "output_type": "stream",
          "text": [
            "masukan nilai anda = 70\n",
            "lulus kau boy\n"
          ]
        }
      ],
      "source": [
        "nilai = int(input(\"masukan nilai anda = \"))\n",
        "if nilai >= 60:\n",
        "  print(\"lulus kau boy\")"
      ]
    },
    {
      "cell_type": "markdown",
      "metadata": {
        "id": "mz9jbb7Z_VDR"
      },
      "source": [
        "praktikum 2 if-else"
      ]
    },
    {
      "cell_type": "code",
      "execution_count": null,
      "metadata": {
        "colab": {
          "base_uri": "https://localhost:8080/"
        },
        "id": "fyRAg59M-VwZ",
        "outputId": "3638aaa1-f27c-408e-8e35-ca42bc052f7d"
      },
      "outputs": [
        {
          "name": "stdout",
          "output_type": "stream",
          "text": [
            "masukan nilai anda =50\n",
            "tidak lulus kau boy\n"
          ]
        }
      ],
      "source": [
        "nilai = int(input(\"masukan nilai anda = \"))\n",
        "if nilai >= 60:\n",
        "  print (\"lulus kau boy\")\n",
        "else:\n",
        "  print (\"tidak lulus kau boy\")"
      ]
    },
    {
      "cell_type": "markdown",
      "metadata": {
        "id": "zCAwKRIJ_4o8"
      },
      "source": [
        "praktikum 3 if-elif-else"
      ]
    },
    {
      "cell_type": "code",
      "execution_count": null,
      "metadata": {
        "colab": {
          "base_uri": "https://localhost:8080/"
        },
        "id": "ky04cpn8_2GV",
        "outputId": "04be6c67-e8d6-4bf8-9603-c6dc1579d30b"
      },
      "outputs": [
        {
          "name": "stdout",
          "output_type": "stream",
          "text": [
            "masukan nilai anda =78\n",
            "belajar lagi ya boy, baru dapat B kau\n"
          ]
        }
      ],
      "source": [
        "nilai = int(input(\"masukan nilai anda = \"))\n",
        "if nilai >= 85:\n",
        "  print (\"jenius kau boy\")\n",
        "elif nilai >= 70:\n",
        "  print (\"belajar lagi ya boy, baru dapat B kau\")\n",
        "elif nilai >= 55:\n",
        "  print (\"ya ampun boy nilai macam apa ini\")\n",
        "elif nilai >= 40:\n",
        "  print (\"gaktau lagi lah boy\")\n",
        "else:\n",
        "  print (\"salam untuk Engginer sejati🫡\")"
      ]
    },
    {
      "cell_type": "markdown",
      "metadata": {
        "id": "M2YCWCdSBp45"
      },
      "source": [
        "praktikum 4 nested if"
      ]
    },
    {
      "cell_type": "code",
      "execution_count": null,
      "metadata": {
        "colab": {
          "base_uri": "https://localhost:8080/"
        },
        "id": "3l9G0VOsBHlu",
        "outputId": "c2c46fc2-e2f2-4ba0-cbcf-9c8b38b1decb"
      },
      "outputs": [
        {
          "name": "stdout",
          "output_type": "stream",
          "text": [
            "masukan ipk anda =2.8\n",
            "masukan sks anda =20\n",
            "kau tak layak dapat beasiswa boy\n"
          ]
        }
      ],
      "source": [
        "ipk = float(input(\"masukan ipk anda = \"))\n",
        "sks = int(input(\"masukan sks anda = \"))\n",
        "\n",
        "if ipk >= 3.0:\n",
        "  if sks >= 18:\n",
        "    print (\"layak dapat beasiswa kau boy\")\n",
        "  else:\n",
        "    print (\"ipk kau layak tapi sks kau kurang boy\")\n",
        "else:\n",
        "  print (\"kau tak layak dapat beasiswa boy\")"
      ]
    },
    {
      "cell_type": "markdown",
      "metadata": {
        "id": "RlgScJfeEpyC"
      },
      "source": [
        "praktikum 5 match-case"
      ]
    },
    {
      "cell_type": "code",
      "execution_count": null,
      "metadata": {
        "colab": {
          "base_uri": "https://localhost:8080/"
        },
        "id": "wxq-ChVdDzvv",
        "outputId": "f0f20f0a-6185-4c34-813c-1edaf0bfe831"
      },
      "outputs": [
        {
          "name": "stdout",
          "output_type": "stream",
          "text": [
            "pilih angka menu =9\n",
            "menu tidak tersedia\n"
          ]
        }
      ],
      "source": [
        "menu = int(input(\"pilih angka menu = \"))\n",
        "match menu:\n",
        "  case 1:\n",
        "    print (\"menu 1 dipilih\")\n",
        "  case 2:\n",
        "    print (\"menu 2 dipilih\")\n",
        "  case 3:\n",
        "    print (\"menu 3 dipilih\")\n",
        "  case _:\n",
        "    print (\"menu tidak tersedia\")"
      ]
    },
    {
      "cell_type": "markdown",
      "metadata": {
        "id": "fUE2MVgKHp-h"
      },
      "source": [
        "praktikum 6 studi kasus: program kasir"
      ]
    },
    {
      "cell_type": "code",
      "execution_count": null,
      "metadata": {
        "colab": {
          "base_uri": "https://localhost:8080/"
        },
        "id": "0iFSJqwFF0JZ",
        "outputId": "a17a3d91-d156-42de-a048-4958fd6aded2"
      },
      "outputs": [
        {
          "output_type": "stream",
          "name": "stdout",
          "text": [
            "masukan nama barang =meja\n",
            "masukan harga barang =1000\n",
            "masukan jumlah barang =3\n",
            "harga barang Rp =  3000\n",
            "masukan uang anda =9000\n",
            "kembalian kau boy = 6000\n"
          ]
        }
      ],
      "source": [
        "d = str(input(\"masukan nama barang = \"))\n",
        "b = int(input(\"masukan harga barang = \"))\n",
        "c = int(input(\"masukan jumlah barang = \"))\n",
        "\n",
        "total = b*c\n",
        "if total >= 500000:\n",
        "  diskon = total*0.2\n",
        "  harga_diskon = total-diskon\n",
        "  print(\"harga barang Rp = \",int(harga_diskon))\n",
        "elif total >= 250000:\n",
        "  diskon = total*0.1\n",
        "  harga_diskon = total-diskon\n",
        "  print(\"harga barang Rp = \",int(harga_diskon))\n",
        "else:\n",
        "  harga_diskon = total*1\n",
        "  print(\"harga barang Rp = \",harga_diskon)\n",
        "a = int(input(\"masukan uang anda = \"))\n",
        "kembalian = int(a-harga_diskon)\n",
        "print(\"kembalian kau boy = \", kembalian)"
      ]
    },
    {
      "cell_type": "markdown",
      "metadata": {
        "id": "PmBqX32izDQw"
      },
      "source": [
        "penugasan cek bikangan positif/negatif/nol\n"
      ]
    },
    {
      "cell_type": "code",
      "execution_count": null,
      "metadata": {
        "colab": {
          "base_uri": "https://localhost:8080/"
        },
        "id": "3RATIdWzJi5d",
        "outputId": "fc071250-2935-40d1-de1f-8dffbd2cae28"
      },
      "outputs": [
        {
          "name": "stdout",
          "output_type": "stream",
          "text": [
            "masukan bilangan =-8\n",
            "bilangan negatif\n"
          ]
        }
      ],
      "source": [
        "a = int(input(\"masukan bilangan = \"))\n",
        "\n",
        "if a >=1:\n",
        "  print(\"bilangan positif\")\n",
        "elif a <=-1:\n",
        "  print(\"bilangan negatif\")\n",
        "else:\n",
        "  print(\"nol\")\n"
      ]
    },
    {
      "cell_type": "markdown",
      "source": [
        "menetukan kategori usia"
      ],
      "metadata": {
        "id": "yQvJs7z8lM8L"
      }
    },
    {
      "cell_type": "code",
      "execution_count": null,
      "metadata": {
        "colab": {
          "base_uri": "https://localhost:8080/"
        },
        "id": "ocnoUlHjzwwM",
        "outputId": "0c8ef3e2-d813-4424-e0cc-b5f18be3803b"
      },
      "outputs": [
        {
          "name": "stdout",
          "output_type": "stream",
          "text": [
            "masukan umur kau boy60\n",
            "lansia\n"
          ]
        }
      ],
      "source": [
        "a = int(input(\"masukan umur kau boy\"))\n",
        "\n",
        "if a <=5:\n",
        "  print(\"balita\")\n",
        "elif a <=11:\n",
        "  print(\"anak anak\")\n",
        "elif a <=17:\n",
        "  print(\"remaja\")\n",
        "elif a <=59:\n",
        "  print(\"desawa\")\n",
        "else:\n",
        "  print(\"lansia\")"
      ]
    },
    {
      "cell_type": "markdown",
      "source": [
        "hitung tarif parkir"
      ],
      "metadata": {
        "id": "ipebYkBxlVfv"
      }
    },
    {
      "cell_type": "code",
      "execution_count": null,
      "metadata": {
        "colab": {
          "base_uri": "https://localhost:8080/"
        },
        "id": "pZRvELQOGzYG",
        "outputId": "fefc918c-9ec3-4fba-b117-2eea9fc6932d"
      },
      "outputs": [
        {
          "output_type": "stream",
          "name": "stdout",
          "text": [
            "masukan total jam parkir kau boy = 20\n",
            "bayar = 20000\n"
          ]
        }
      ],
      "source": [
        "\"a = int(input(\"masukan total jam parkir kau boy = \"))\n",
        "if a <= 2:\n",
        "  bayar = 5000\n",
        "  print(\"bayar = \", bayar)\n",
        "elif a > 2:\n",
        "  b = a-2\n",
        "  bayar = ((b*2000) + 5000)\n",
        "if bayar >=20000:\n",
        "  print(\"bayar = 20000\")\n",
        "else:\n",
        "  print(\"upil\")"
      ]
    },
    {
      "cell_type": "markdown",
      "source": [
        "cek login sederhana\n"
      ],
      "metadata": {
        "id": "q5nDBAsUbHIr"
      }
    },
    {
      "cell_type": "code",
      "source": [
        "a = str(input(\"masukan username = \"))\n",
        "b = int(input(\"masukan pasword = \"))\n",
        "\n",
        "if a==\"admin\":\n",
        "  if b==1234:\n",
        "    print(\"login berhasil\")\n",
        "  else:\n",
        "    print(\"login gagal\")"
      ],
      "metadata": {
        "id": "M7eW6P9glVyE"
      },
      "execution_count": null,
      "outputs": []
    },
    {
      "cell_type": "markdown",
      "source": [
        "cek genap/ganjil\n"
      ],
      "metadata": {
        "id": "aRrjgXzIo53j"
      }
    },
    {
      "cell_type": "code",
      "source": [
        "a = int(input(\"masukan angka = \"))\n",
        "hasil = \"genap\" if a % 2 == 0 else \"ganjil\"\n",
        "print(\"bilangan tersebut adalah\", hasil)"
      ],
      "metadata": {
        "id": "mJlJlONuo421",
        "colab": {
          "base_uri": "https://localhost:8080/"
        },
        "outputId": "fd3d51d7-41fa-4288-d2ba-fe1398ce8323"
      },
      "execution_count": null,
      "outputs": [
        {
          "output_type": "stream",
          "name": "stdout",
          "text": [
            "masukan angka = 6\n",
            "bilangan tersebut adalah genap\n"
          ]
        }
      ]
    },
    {
      "cell_type": "markdown",
      "source": [
        "menu restoran dengan match-case"
      ],
      "metadata": {
        "id": "yOgzWxFhaYuM"
      }
    },
    {
      "cell_type": "code",
      "source": [
        "a = int(input(\"masukan angka = \"))\n",
        "match \"menu\" :\n",
        "  case 1:\n",
        "    print(\"nasi goreng\")\n",
        "  case 2:\n",
        "    print(\"mie ayam\")\n",
        "  case 3:\n",
        "    print(\"mie goreng\")\n",
        "  case _:\n",
        "    print(\"menu tidak tersedia\")"
      ],
      "metadata": {
        "id": "sDCWu8USsIVr",
        "colab": {
          "base_uri": "https://localhost:8080/"
        },
        "outputId": "23216f6b-e490-40d7-9e11-a7dd8eac1a3e"
      },
      "execution_count": null,
      "outputs": [
        {
          "output_type": "stream",
          "name": "stdout",
          "text": [
            "masukan angka = 9\n",
            "menu tidak tersedia\n"
          ]
        }
      ]
    },
    {
      "cell_type": "markdown",
      "source": [
        "studi kasus nyata-program penentuan diskon"
      ],
      "metadata": {
        "id": "yo_HQOMHb9Jy"
      }
    },
    {
      "cell_type": "code",
      "source": [
        "a = str(input(\"masukan nama barang : \"))\n",
        "c = float(input(\"masukan harga barang : \"))\n",
        "b = int(input(\"masukan jumlah barang : \"))\n",
        "\n",
        "g = int(b*c)\n",
        "if g >= 500000:\n",
        "  diskon = 0.2\n",
        "elif g >=250000:\n",
        "  diskon = 0.1\n",
        "else:\n",
        "  diskon = 0\n",
        "\n",
        "potongan = g * diskon\n",
        "bayar = int(g - potongan)\n",
        "\n",
        "print(\"\\n===== struk belanja =====\")\n",
        "print(f\"barang : {a}\")\n",
        "print(f\"jumlah : {b}\")\n",
        "print(f\"total : {g}\")\n",
        "print(f\"diskon : {int(diskon*100)}%\")\n",
        "print(f\"bayar : Rp {bayar}\")"
      ],
      "metadata": {
        "colab": {
          "base_uri": "https://localhost:8080/"
        },
        "id": "uYlD1tIMb6NF",
        "outputId": "79765830-58b6-450d-b26e-346fbeaffce6"
      },
      "execution_count": 10,
      "outputs": [
        {
          "output_type": "stream",
          "name": "stdout",
          "text": [
            "masukan nama barang : ip\n",
            "masukan harga barang : 30\n",
            "masukan jumlah barang : 9\n",
            "\n",
            "===== struk belanja =====\n",
            "barang : ip\n",
            "jumlah : 9\n",
            "total : 270\n",
            "diskon : 0%\n",
            "bayar : Rp 270\n"
          ]
        }
      ]
    },
    {
      "cell_type": "code",
      "source": [],
      "metadata": {
        "id": "vwGVl749bXAp"
      },
      "execution_count": null,
      "outputs": []
    }
  ],
  "metadata": {
    "colab": {
      "provenance": [],
      "authorship_tag": "ABX9TyMRO+aa/G4jdKkh8qs+8QMK",
      "include_colab_link": true
    },
    "kernelspec": {
      "display_name": "Python 3",
      "name": "python3"
    },
    "language_info": {
      "name": "python"
    }
  },
  "nbformat": 4,
  "nbformat_minor": 0
}