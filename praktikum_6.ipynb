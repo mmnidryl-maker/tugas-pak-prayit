{
  "nbformat": 4,
  "nbformat_minor": 0,
  "metadata": {
    "colab": {
      "provenance": [],
      "authorship_tag": "ABX9TyNfP7AqTby2/dIFfIshi+s2",
      "include_colab_link": true
    },
    "kernelspec": {
      "name": "python3",
      "display_name": "Python 3"
    },
    "language_info": {
      "name": "python"
    }
  },
  "cells": [
    {
      "cell_type": "markdown",
      "metadata": {
        "id": "view-in-github",
        "colab_type": "text"
      },
      "source": [
        "<a href=\"https://colab.research.google.com/github/mmnidryl-maker/tugas-pak-prayit/blob/main/praktikum_6.ipynb\" target=\"_parent\"><img src=\"https://colab.research.google.com/assets/colab-badge.svg\" alt=\"Open In Colab\"/></a>"
      ]
    },
    {
      "cell_type": "code",
      "execution_count": null,
      "metadata": {
        "colab": {
          "base_uri": "https://localhost:8080/"
        },
        "id": "jmLxBKqRXHq_",
        "outputId": "98f196a8-165a-457d-f4aa-b544695c229c"
      },
      "outputs": [
        {
          "output_type": "stream",
          "name": "stdout",
          "text": [
            "andi\n",
            "budi\n",
            "cici\n"
          ]
        }
      ],
      "source": [
        "mahasiswa = [\"andi\", \"budi\", \"cici\"]\n",
        "print(mahasiswa[0])\n",
        "print(mahasiswa[1])\n",
        "print(mahasiswa[-1])"
      ]
    },
    {
      "cell_type": "code",
      "source": [
        "nilai = [85, 90, 78]\n",
        "nilai[1] = 95\n",
        "nilai.append(100)\n",
        "nilai.remove(78)\n",
        "print(nilai)"
      ],
      "metadata": {
        "colab": {
          "base_uri": "https://localhost:8080/"
        },
        "id": "hL-MOIE-c4Px",
        "outputId": "7b7371ed-3fc4-4885-8708-8da43d9b7dff"
      },
      "execution_count": null,
      "outputs": [
        {
          "output_type": "stream",
          "name": "stdout",
          "text": [
            "[85, 95, 100]\n"
          ]
        }
      ]
    },
    {
      "cell_type": "code",
      "source": [
        "nilai = [85, 90, 78, 92, 88]\n",
        "print(nilai [0:3])\n",
        "print(nilai[2:])\n",
        "print(nilai[:3])"
      ],
      "metadata": {
        "colab": {
          "base_uri": "https://localhost:8080/"
        },
        "id": "t4DwSsvkdPHJ",
        "outputId": "74baa108-3b5a-4741-cb7e-d87bcb0a8cd7"
      },
      "execution_count": null,
      "outputs": [
        {
          "output_type": "stream",
          "name": "stdout",
          "text": [
            "[85, 90, 78]\n",
            "[78, 92, 88]\n",
            "[85, 90, 78]\n"
          ]
        }
      ]
    },
    {
      "cell_type": "code",
      "source": [
        "matriks = [\n",
        "    [1, 2, 3],\n",
        "    [4, 5, 6],\n",
        "    [7, 8, 9]\n",
        "]\n",
        "\n",
        "print(matriks[0][0])\n",
        "print(matriks[1][2])\n",
        "print(matriks[2])"
      ],
      "metadata": {
        "colab": {
          "base_uri": "https://localhost:8080/"
        },
        "id": "DIHWo4PLdoqz",
        "outputId": "6e77e0de-61c3-49b1-8dc8-fead2ccdb52a"
      },
      "execution_count": null,
      "outputs": [
        {
          "output_type": "stream",
          "name": "stdout",
          "text": [
            "1\n",
            "6\n",
            "[7, 8, 9]\n"
          ]
        }
      ]
    },
    {
      "cell_type": "code",
      "source": [
        "a = [[1, 2, 3], [4, 5, 6]]\n",
        "b = [[7, 8, 9], [10, 11, 12]]\n",
        "c = []\n",
        "\n",
        "for i in range(len(a)):\n",
        "  baris = []\n",
        "  for j in range(len(a[0])):\n",
        "    baris.append(a[i][j] + b[i][j])\n",
        "  c.append(baris)\n",
        "print(c)"
      ],
      "metadata": {
        "colab": {
          "base_uri": "https://localhost:8080/"
        },
        "id": "a_ERABImeDwh",
        "outputId": "8d2995ba-e467-4704-ea09-f7e11def9ea6"
      },
      "execution_count": null,
      "outputs": [
        {
          "output_type": "stream",
          "name": "stdout",
          "text": [
            "[[8, 10, 12], [14, 16, 18]]\n"
          ]
        }
      ]
    },
    {
      "cell_type": "code",
      "source": [
        "nilai = [\n",
        "    [80, 90, 85],\n",
        "    [70, 75, 80],\n",
        "    [88, 92, 84]\n",
        "]\n",
        "\n",
        "for i, baris in enumerate(nilai, start=1):\n",
        "  rata = sum(baris) / len(baris)\n",
        "  print(f'rata-rata mahasiswa {i}: {rata:.2f}')"
      ],
      "metadata": {
        "id": "AtMIAci0fPVw",
        "colab": {
          "base_uri": "https://localhost:8080/"
        },
        "outputId": "6735dbe1-2f47-43b9-9089-24c8eb2a582f"
      },
      "execution_count": 1,
      "outputs": [
        {
          "output_type": "stream",
          "name": "stdout",
          "text": [
            "rata-rata mahasiswa 1: 85.00\n",
            "rata-rata mahasiswa 2: 75.00\n",
            "rata-rata mahasiswa 3: 88.00\n"
          ]
        }
      ]
    },
    {
      "cell_type": "markdown",
      "source": [
        "penugasan 3 akses elemen list"
      ],
      "metadata": {
        "id": "61JUmtZ2Po1D"
      }
    },
    {
      "cell_type": "code",
      "source": [
        "mahasiswa = [\"dio\", \"arjun\", \"rasha\", \"irfan\", \"hamam\",]\n",
        "print(mahasiswa[0])\n",
        "print(mahasiswa[-1])\n",
        "print(mahasiswa[1])"
      ],
      "metadata": {
        "colab": {
          "base_uri": "https://localhost:8080/"
        },
        "id": "68V8JhAUPTuR",
        "outputId": "351f1bca-36ac-4559-d937-dfdaa620c0bd"
      },
      "execution_count": 2,
      "outputs": [
        {
          "output_type": "stream",
          "name": "stdout",
          "text": [
            "dio\n",
            "hamam\n",
            "arjun\n"
          ]
        }
      ]
    },
    {
      "cell_type": "markdown",
      "source": [
        "penugasan 4 operasi dasar list"
      ],
      "metadata": {
        "id": "g_jbrFiyQhy0"
      }
    },
    {
      "cell_type": "code",
      "source": [
        "nilai = [70, 75, 80]\n",
        "nilai[1] = 85\n",
        "nilai.append(90)\n",
        "nilai.remove(70)\n",
        "print(nilai)\n"
      ],
      "metadata": {
        "colab": {
          "base_uri": "https://localhost:8080/"
        },
        "id": "i9MWpqdIQfZU",
        "outputId": "16078618-cd4c-4bfb-daef-3538fc371922"
      },
      "execution_count": 3,
      "outputs": [
        {
          "output_type": "stream",
          "name": "stdout",
          "text": [
            "[85, 80, 90]\n"
          ]
        }
      ]
    },
    {
      "cell_type": "markdown",
      "source": [
        "penugasan 5 slicing list\n"
      ],
      "metadata": {
        "id": "kdHQMpUlRiBE"
      }
    },
    {
      "cell_type": "code",
      "source": [
        "angka = [1, 2, 3, 4, 5, 6, 7, 8, 9, 10]\n",
        "print(angka[0:3])\n",
        "print(angka[6:])\n",
        "print(angka[1::2])"
      ],
      "metadata": {
        "colab": {
          "base_uri": "https://localhost:8080/"
        },
        "id": "EQbibAXtRY0V",
        "outputId": "9862cfb3-fb05-426c-c177-f90461e0e6a1"
      },
      "execution_count": 18,
      "outputs": [
        {
          "output_type": "stream",
          "name": "stdout",
          "text": [
            "[1, 2, 3]\n",
            "[7, 8, 9, 10]\n",
            "[2, 4, 6, 8, 10]\n"
          ]
        }
      ]
    },
    {
      "cell_type": "markdown",
      "source": [
        "penugasan 6 list 2d-matriks"
      ],
      "metadata": {
        "id": "o670B3LBXEOz"
      }
    },
    {
      "cell_type": "code",
      "source": [
        "a = [\n",
        "    [1, 2, 3],\n",
        "    [4, 5, 6]\n",
        "]\n",
        "print(a[0][1])\n",
        "print(a[1][2])\n",
        "print(a[0])"
      ],
      "metadata": {
        "colab": {
          "base_uri": "https://localhost:8080/"
        },
        "id": "2YZvQm-8SOrI",
        "outputId": "6921ef60-34a3-4e72-d990-27629ab5ed49"
      },
      "execution_count": 19,
      "outputs": [
        {
          "output_type": "stream",
          "name": "stdout",
          "text": [
            "2\n",
            "6\n",
            "[1, 2, 3]\n"
          ]
        }
      ]
    },
    {
      "cell_type": "markdown",
      "source": [
        "penugasan 7 operasi matriks 2D"
      ],
      "metadata": {
        "id": "8XAp1x8iX5Lj"
      }
    },
    {
      "cell_type": "code",
      "source": [
        "a = [\n",
        "    [1, 3],\n",
        "    [4, 6]\n",
        "]\n",
        "b = [\n",
        "    [7, 9],\n",
        "    [10, 12]\n",
        "]\n",
        "c = []\n",
        "for i in range(len(a)):\n",
        "  baris = []\n",
        "  for j in range(len(a[0])):\n",
        "    baris.append(a[i][j] + b[i][j])\n",
        "  c.append(baris)\n",
        "print(c)"
      ],
      "metadata": {
        "colab": {
          "base_uri": "https://localhost:8080/"
        },
        "id": "vgpW8RThX1NB",
        "outputId": "df26f150-5d82-4348-bbb4-cfb20bc87a33"
      },
      "execution_count": 22,
      "outputs": [
        {
          "output_type": "stream",
          "name": "stdout",
          "text": [
            "[[8, 12], [14, 18]]\n"
          ]
        }
      ]
    },
    {
      "cell_type": "markdown",
      "source": [
        "penugasan 8 rata-rata nilai mahasiswa"
      ],
      "metadata": {
        "id": "YdaSOCf9ZyMG"
      }
    },
    {
      "cell_type": "code",
      "source": [
        "nilai = [[75, 80, 85], [60, 70, 65], [90, 95, 92]]\n",
        "for i, baris in enumerate(nilai, start=1):\n",
        "  rata = sum(baris) / len(baris)\n",
        "  print(f\"rata-rata mahasiswa {i} : {rata:.2f}\")"
      ],
      "metadata": {
        "colab": {
          "base_uri": "https://localhost:8080/"
        },
        "id": "ju0L0wvBZQBO",
        "outputId": "4d6b5c55-bb79-43b3-e3a0-857118c2ba46"
      },
      "execution_count": 24,
      "outputs": [
        {
          "output_type": "stream",
          "name": "stdout",
          "text": [
            "rata-rata mahasiswa 1 : 80.00\n",
            "rata-rata mahasiswa 2 : 65.00\n",
            "rata-rata mahasiswa 3 : 92.33\n"
          ]
        }
      ]
    },
    {
      "cell_type": "markdown",
      "source": [
        "penugasan 9 studi kasus-data toko"
      ],
      "metadata": {
        "id": "8uIr5PQ2a_rF"
      }
    },
    {
      "cell_type": "code",
      "source": [
        "stok = [[\"buku\", 20], [\"pulpen\", 35], [\"penghapus\", 15]]\n",
        "stok_terbanyak = 0\n",
        "barang_terbanyak =\"\"\n",
        "for item in stok:\n",
        "  nama_barang = item[0]\n",
        "  jumlah_barang = item[1]\n",
        "  print(f\"nama barang {nama_barang}, jumlah barang {jumlah_barang}\")\n",
        "  if jumlah_barang > stok_terbanyak:\n",
        "    stok_terbanyak = jumlah_barang\n",
        "    barang_terbanyak = nama_barang\n",
        "print(\"\\n----barang dengan jumlah stok terbanyak----\")\n",
        "print(f\"nama barang : {barang_terbanyak}, stok terbanyak : {stok_terbanyak}\")"
      ],
      "metadata": {
        "colab": {
          "base_uri": "https://localhost:8080/"
        },
        "id": "2fPA9g0la1TL",
        "outputId": "55fd96ae-c3f8-4b2f-c8f8-26423dba7ec8"
      },
      "execution_count": 54,
      "outputs": [
        {
          "output_type": "stream",
          "name": "stdout",
          "text": [
            "nama barang buku, jumlah barang 20\n",
            "nama barang pulpen, jumlah barang 35\n",
            "nama barang penghapus, jumlah barang 15\n",
            "\n",
            "----barang dengan jumlah stok terbanyak----\n",
            "nama barang : pulpen, stok terbanyak : 35\n"
          ]
        }
      ]
    }
  ]
}